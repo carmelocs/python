{
 "metadata": {
  "language_info": {
   "codemirror_mode": {
    "name": "ipython",
    "version": 3
   },
   "file_extension": ".py",
   "mimetype": "text/x-python",
   "name": "python",
   "nbconvert_exporter": "python",
   "pygments_lexer": "ipython3",
   "version": "3.7.6"
  },
  "orig_nbformat": 4,
  "kernelspec": {
   "name": "python3",
   "display_name": "Python 3.7.6 64-bit ('base': conda)"
  },
  "interpreter": {
   "hash": "f7c338d389f4732a25d0e25fa9b9cc5d70bf419da0d097d09d423e0fa7895907"
  }
 },
 "nbformat": 4,
 "nbformat_minor": 2,
 "cells": [
  {
   "source": [
    "# Exercise1"
   ],
   "cell_type": "markdown",
   "metadata": {}
  },
  {
   "source": [
    "print(type('7'))\n",
    "print(type(7))\n",
    "print(type(7.1))"
   ],
   "cell_type": "code",
   "metadata": {},
   "execution_count": 1,
   "outputs": [
    {
     "output_type": "stream",
     "name": "stdout",
     "text": [
      "<class 'str'>\n<class 'int'>\n<class 'float'>\n"
     ]
    }
   ]
  },
  {
   "cell_type": "code",
   "execution_count": 2,
   "metadata": {},
   "outputs": [
    {
     "output_type": "stream",
     "name": "stdout",
     "text": [
      "True\nTrue\nTrue\n"
     ]
    }
   ],
   "source": [
    "print(isinstance('7', str))\n",
    "print(isinstance(7, int))\n",
    "print(isinstance(7.1, float))"
   ]
  },
  {
   "cell_type": "code",
   "execution_count": 3,
   "metadata": {},
   "outputs": [
    {
     "output_type": "stream",
     "name": "stdout",
     "text": [
      "False\nFalse\nFalse\n"
     ]
    }
   ],
   "source": [
    "print(isinstance(7, str))\n",
    "print(isinstance('7', int))\n",
    "print(isinstance('7.1', float))"
   ]
  },
  {
   "cell_type": "code",
   "execution_count": 4,
   "metadata": {},
   "outputs": [
    {
     "output_type": "stream",
     "name": "stdout",
     "text": [
      "<class 'str'>\n<class 'int'>\n<class 'bool'>\n"
     ]
    }
   ],
   "source": [
    "x = 'a string'\n",
    "print(type(x))\n",
    "x = 7\n",
    "print(type(x))\n",
    "x = False \n",
    "print(type(x))"
   ]
  },
  {
   "source": [
    "# Exercise2"
   ],
   "cell_type": "markdown",
   "metadata": {}
  },
  {
   "cell_type": "code",
   "execution_count": 5,
   "metadata": {},
   "outputs": [
    {
     "output_type": "stream",
     "name": "stdout",
     "text": [
      "Sum: 13\n"
     ]
    }
   ],
   "source": [
    "first_value = int(input('First Number: '))\n",
    "second_value = int(input('Second number: '))\n",
    "sum = first_value + second_value\n",
    "print(\"Sum: \" + str(sum))"
   ]
  },
  {
   "cell_type": "code",
   "execution_count": 6,
   "metadata": {},
   "outputs": [
    {
     "output_type": "stream",
     "name": "stdout",
     "text": [
      "True\nFalse\n"
     ]
    }
   ],
   "source": [
    "numeric_value = '7'\n",
    "print(numeric_value.isnumeric())\n",
    "\n",
    "string_value = 'Bob'\n",
    "print(string_value.isnumeric())"
   ]
  },
  {
   "cell_type": "code",
   "execution_count": 11,
   "metadata": {},
   "outputs": [
    {
     "output_type": "stream",
     "name": "stdout",
     "text": [
      "Sum: 62\n"
     ]
    }
   ],
   "source": [
    "first_value = input('First Number: ')\n",
    "\n",
    "if first_value.isnumeric() == False:\n",
    "    print('Value is not a number.')\n",
    "    # exit()\n",
    "\n",
    "second_value = input('Second Number: ')\n",
    "\n",
    "if second_value.isnumeric() == False:\n",
    "    print('Value is not a number.')\n",
    "    # exit()\n",
    "\n",
    "first_value = int(first_value)\n",
    "second_value = int(second_value)\n",
    "\n",
    "sum = first_value + second_value\n",
    "print('Sum: ' + str(sum))"
   ]
  },
  {
   "cell_type": "code",
   "execution_count": 12,
   "metadata": {},
   "outputs": [
    {
     "output_type": "stream",
     "name": "stdout",
     "text": [
      "Sum: 77\n"
     ]
    }
   ],
   "source": [
    "first_value = input('First Number: ')\n",
    "second_value = input('Second Number: ')\n",
    "\n",
    "if first_value.isnumeric() == False or second_value.isnumeric() == False:\n",
    "    print('Please enter numbers only.')\n",
    "    # exit()\n",
    "\n",
    "first_value = int(first_value)\n",
    "second_value = int(second_value)\n",
    "\n",
    "sum = first_value + second_value\n",
    "print('Sum: ' + str(sum))"
   ]
  },
  {
   "source": [
    "# Exercise3"
   ],
   "cell_type": "markdown",
   "metadata": {}
  },
  {
   "cell_type": "code",
   "execution_count": 13,
   "metadata": {},
   "outputs": [
    {
     "output_type": "stream",
     "name": "stdout",
     "text": [
      "Sum: 9\nDifference: 1\nProduct: 20\nQuotient: 1.25\nModulus: 1\nExponent: 625\n"
     ]
    }
   ],
   "source": [
    "first_value = 5\n",
    "second_value = 4\n",
    "\n",
    "sum = first_value + second_value\n",
    "difference = first_value - second_value\n",
    "product = first_value * second_value\n",
    "quotient = first_value / second_value\n",
    "modulus = first_value % second_value\n",
    "exponent = first_value ** second_value \n",
    "\n",
    "print('Sum: ' + str(sum))\n",
    "print('Difference: ' + str(difference))\n",
    "print('Product: ' + str(product))\n",
    "print('Quotient: ' + str(quotient))\n",
    "print('Modulus: ' + str(modulus))\n",
    "print('Exponent: ' + str(exponent))"
   ]
  },
  {
   "cell_type": "code",
   "execution_count": 14,
   "metadata": {},
   "outputs": [
    {
     "output_type": "stream",
     "name": "stdout",
     "text": [
      "23\n35\n"
     ]
    }
   ],
   "source": [
    "print(3 + 4 * 5)\n",
    "print((3 + 4) * 5)"
   ]
  },
  {
   "cell_type": "code",
   "execution_count": 15,
   "metadata": {},
   "outputs": [
    {
     "output_type": "stream",
     "name": "stdout",
     "text": [
      "<class 'float'>\n1.25\n"
     ]
    }
   ],
   "source": [
    "first_value = 5\n",
    "second_value = 4\n",
    "\n",
    "quotient = first_value / second_value\n",
    "\n",
    "print(type(quotient))\n",
    "print(quotient)"
   ]
  },
  {
   "cell_type": "code",
   "execution_count": 16,
   "metadata": {},
   "outputs": [
    {
     "output_type": "stream",
     "name": "stdout",
     "text": [
      "<class 'float'>\n3\n<class 'float'>\n99\n"
     ]
    }
   ],
   "source": [
    "pi = 3.14\n",
    "print(type(pi))\n",
    "print(int(pi))\n",
    "\n",
    "uptime = 99.99\n",
    "print(type(uptime))\n",
    "print(int(uptime))"
   ]
  },
  {
   "cell_type": "code",
   "execution_count": 17,
   "metadata": {},
   "outputs": [
    {
     "output_type": "stream",
     "name": "stdout",
     "text": [
      "<class 'float'>\n3\n3\n<class 'float'>\n99\n100\n"
     ]
    }
   ],
   "source": [
    "pi = 3.14\n",
    "print(type(pi))\n",
    "print(int(pi))\n",
    "print(round(pi))\n",
    "\n",
    "uptime = 99.99\n",
    "print(type(uptime))\n",
    "print(int(uptime))\n",
    "print(round(uptime))"
   ]
  },
  {
   "cell_type": "code",
   "execution_count": 18,
   "metadata": {},
   "outputs": [
    {
     "output_type": "stream",
     "name": "stdout",
     "text": [
      "7.65\n9.877\n"
     ]
    }
   ],
   "source": [
    "first_value = round(7.654321, 2)\n",
    "print(first_value)\n",
    "\n",
    "second_value = round(9.87654, 3)\n",
    "print(second_value)"
   ]
  },
  {
   "source": [
    "# Challenge1 - Convert temperature from Fahrenheit to Celsius\n",
    "celsius = (fahrenheit - 32) * 5/9\n",
    "\n",
    "Output:\n",
    "```\n",
    "What is the temperature in fahrenheit?  55\n",
    "\n",
    "Temperature in celsius is 12\n",
    "```\n",
    "Ouptut:\n",
    "```\n",
    "What is the temperature in fahrenheit?  bob\n",
    "\n",
    "Input is not a number.\n",
    "```"
   ],
   "cell_type": "markdown",
   "metadata": {}
  },
  {
   "cell_type": "code",
   "execution_count": 22,
   "metadata": {},
   "outputs": [
    {
     "output_type": "stream",
     "name": "stdout",
     "text": [
      "Input is not a number.\n"
     ]
    }
   ],
   "source": [
    "fah = input('What is the temperature in fahrenheit?')\n",
    "\n",
    "if fah.isnumeric():\n",
    "    cel = (int(fah) - 32) * 5/9\n",
    "    print(f'Temperature in celsius is {int(cel)}')\n",
    "else:\n",
    "    print('Input is not a number.')"
   ]
  },
  {
   "source": [
    "# Challenge2 - Build a simple calculator\n",
    "Write a program to accept two numbers and an operation, and then perform the operation on the two numbers\n",
    "\n",
    "Output:\n",
    "```\n",
    "Simple calculator!\n",
    "First number? 4\n",
    "Operation? *\n",
    "Second number? 5\n",
    "product of 4 * 5 equals 20\n",
    "```\n",
    "Your program should accept a symbol, such as the asterisk symbol (*), to perform a multiplication and produce a product. Make sure that you implement logic for the following results:\n",
    "- Sum\n",
    "- Difference\n",
    "- Product\n",
    "- Quotient\n",
    "- Exponent\n",
    "- Modulus\n",
    "\n",
    "If users fail to enter a numeric value, display the following message:\n",
    "```\n",
    "Please input a number.\n",
    "```\n",
    "If users enter an operation that isn't recognized, display the following message:\n",
    "```\n",
    "Operation not recognized.\n",
    "```"
   ],
   "cell_type": "markdown",
   "metadata": {}
  },
  {
   "cell_type": "code",
   "execution_count": 38,
   "metadata": {},
   "outputs": [
    {
     "output_type": "stream",
     "name": "stdout",
     "text": [
      "Simple calculator!\n",
      "product of 4 * 3 equals 12\n"
     ]
    }
   ],
   "source": [
    "print('Simple calculator!')\n",
    "first_number = input('First number?')\n",
    "if not first_number.isnumeric():\n",
    "    print('Please input a number.')\n",
    "    # exit()\n",
    "    \n",
    "operation = input('Operation?')\n",
    "# operation_list = ['+', '-', '*', '\\', '**', '%']\n",
    "\n",
    "second_number = input('Second number?')\n",
    "if not second_number.isnumeric():\n",
    "    print('Please input a number.')\n",
    "    # exit()\n",
    "\n",
    "first_number = int(first_number)\n",
    "second_number = int(second_number)\n",
    "result = 0\n",
    "\n",
    "if operation == '+':\n",
    "    result = first_number + second_number\n",
    "elif operation == '-':\n",
    "    result = first_number - second_number\n",
    "elif operation == '*':\n",
    "    result = first_number * second_number\n",
    "elif operation == '/':\n",
    "    result = first_number / second_number\n",
    "elif operation == '**':\n",
    "    result = first_number ** second_number\n",
    "elif operation == '%':\n",
    "    result = first_number % second_number\n",
    "else:\n",
    "    print('Operation not recognized.')\n",
    "    # exit()\n",
    "\n",
    "print(f'product of {str(first_number)} {str(operation)} {str(second_number)} equals {str(result)}')"
   ]
  },
  {
   "cell_type": "code",
   "execution_count": 36,
   "metadata": {},
   "outputs": [
    {
     "output_type": "execute_result",
     "data": {
      "text/plain": [
       "False"
      ]
     },
     "metadata": {},
     "execution_count": 36
    }
   ],
   "source": []
  },
  {
   "cell_type": "code",
   "execution_count": null,
   "metadata": {},
   "outputs": [],
   "source": []
  }
 ]
}