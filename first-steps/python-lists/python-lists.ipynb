{
 "metadata": {
  "language_info": {
   "codemirror_mode": {
    "name": "ipython",
    "version": 3
   },
   "file_extension": ".py",
   "mimetype": "text/x-python",
   "name": "python",
   "nbconvert_exporter": "python",
   "pygments_lexer": "ipython3",
   "version": "3.7.6"
  },
  "orig_nbformat": 4,
  "kernelspec": {
   "name": "python3",
   "display_name": "Python 3.7.6 64-bit ('base': conda)"
  },
  "interpreter": {
   "hash": "f7c338d389f4732a25d0e25fa9b9cc5d70bf419da0d097d09d423e0fa7895907"
  }
 },
 "nbformat": 4,
 "nbformat_minor": 2,
 "cells": [
  {
   "source": [
    "# Exercise1 - Work with lists of data\n",
    "\n",
    "A list allows you to collect data into a single structure. The items in the list can be of any data type. By using a list, you can:\n",
    "- Add and remove items in various ways.\n",
    "- Reference single items or slices of items (sublists).\n",
    "- Loop through each item in a list, as you'll see in the next unit.\n"
   ],
   "cell_type": "markdown",
   "metadata": {}
  },
  {
   "source": [
    "## Create a list of values"
   ],
   "cell_type": "markdown",
   "metadata": {}
  },
  {
   "cell_type": "code",
   "execution_count": 1,
   "metadata": {},
   "outputs": [
    {
     "output_type": "stream",
     "name": "stdout",
     "text": [
      "['red', 'green', 'blue', 'yellow', 'orange', 'purple', 'brown']\n<class 'list'>\n"
     ]
    }
   ],
   "source": [
    "colors = ['red', 'green', 'blue', 'yellow', 'orange', 'purple', 'brown']\n",
    "\n",
    "print(colors)\n",
    "print(type(colors))"
   ]
  },
  {
   "source": [
    "It's important to understand that you can add values of any data type to a list. In the following code listing, we add a string, float, integer, and Boolean value into a single list.**(not preferable or practical)**"
   ],
   "cell_type": "markdown",
   "metadata": {}
  },
  {
   "cell_type": "code",
   "execution_count": 2,
   "metadata": {},
   "outputs": [
    {
     "output_type": "stream",
     "name": "stdout",
     "text": [
      "['John', 3.14, 7, False]\n<class 'list'>\n"
     ]
    }
   ],
   "source": [
    "sundry = ['John', 3.14, 7, False]\n",
    "print(sundry)\n",
    "print(type(sundry))"
   ]
  },
  {
   "cell_type": "code",
   "execution_count": 3,
   "metadata": {},
   "outputs": [],
   "source": [
    "my_list = []"
   ]
  },
  {
   "cell_type": "code",
   "execution_count": 4,
   "metadata": {},
   "outputs": [
    {
     "output_type": "stream",
     "name": "stdout",
     "text": [
      "0-based indexing into the list ... second item: green\nLast item of the list: brown\nNext to last item in the list: purple\n"
     ]
    }
   ],
   "source": [
    "colors = ['red', 'green', 'blue', 'yellow', 'orange', 'purple', 'brown']\n",
    "\n",
    "# print(colors)\n",
    "# print(type(colors))\n",
    "\n",
    "print(f'0-based indexing into the list ... second item: {colors[1]}')\n",
    "\n",
    "print(f'Last item of the list: {colors[-1]}')\n",
    "\n",
    "print(f'Next to last item in the list: {colors[-2]}')"
   ]
  },
  {
   "source": [
    "## Create a slice\n",
    "\n",
    "The value on the left side of the colon is *inclusive*, while the value on the right side of the colon is *exclusive*."
   ],
   "cell_type": "markdown",
   "metadata": {}
  },
  {
   "cell_type": "code",
   "execution_count": 5,
   "metadata": {},
   "outputs": [
    {
     "output_type": "stream",
     "name": "stdout",
     "text": [
      "\nPrint a SLICE, starting at index 2 and excluding index 5:\n['blue', 'yellow', 'orange']\n<class 'list'>\n\nPrint a slice, starting at index 0 to index 3:\n['red', 'green', 'blue']\n\nPrint a slice, starting a index 4 to the end of the list:\n['orange', 'purple', 'brown']\n\nPrint a slice, from the 4th from the end (but not the last item):\n['yellow', 'orange', 'purple']\n"
     ]
    }
   ],
   "source": [
    "colors = ['red', 'green', 'blue', 'yellow', 'orange', 'purple', 'brown']\n",
    "\n",
    "# print(f'0-based indexing into the list ... second item: {colors[1]}')\n",
    "\n",
    "# print(f'Last item of the list: {colors[-1]}')\n",
    "\n",
    "# print(f'Next to last item in the list: {colors[-2]}')\n",
    "\n",
    "print('\\nPrint a SLICE, starting at index 2 and excluding index 5:')\n",
    "print(colors[2:5])\n",
    "print(type(colors[2:5]))\n",
    "\n",
    "print('\\nPrint a slice, starting at index 0 to index 3:')\n",
    "print(colors[:3])\n",
    "\n",
    "print('\\nPrint a slice, starting a index 4 to the end of the list:')\n",
    "print(colors[4:])\n",
    "\n",
    "print('\\nPrint a slice, from the 4th from the end (but not the last item):')\n",
    "print(colors[-4:-1])"
   ]
  },
  {
   "source": [
    "## Reverse and sort the list\n",
    "\n",
    "Calling these functions **permanently** changes the order in which the elements of the list are stored in memory."
   ],
   "cell_type": "markdown",
   "metadata": {}
  },
  {
   "cell_type": "code",
   "execution_count": 6,
   "metadata": {},
   "outputs": [
    {
     "output_type": "stream",
     "name": "stdout",
     "text": [
      "['brown', 'purple', 'orange', 'yellow', 'blue', 'green', 'red']\n['blue', 'brown', 'green', 'orange', 'purple', 'red', 'yellow']\n"
     ]
    }
   ],
   "source": [
    "colors.reverse()\n",
    "print(colors)\n",
    "\n",
    "colors.sort()\n",
    "print(colors)"
   ]
  },
  {
   "source": [
    "## Treat the list like a queue"
   ],
   "cell_type": "markdown",
   "metadata": {}
  },
  {
   "cell_type": "code",
   "execution_count": 7,
   "metadata": {},
   "outputs": [
    {
     "output_type": "stream",
     "name": "stdout",
     "text": [
      "['blue', 'brown', 'green', 'orange', 'purple', 'red', 'yellow']\npopped blue\n['brown', 'green', 'orange', 'purple', 'red', 'yellow']\n"
     ]
    }
   ],
   "source": [
    "print(colors)\n",
    "\n",
    "color = colors.pop(0)\n",
    "print('popped', color)\n",
    "\n",
    "print(colors)"
   ]
  },
  {
   "source": [
    "## Add and remove elements from a list"
   ],
   "cell_type": "markdown",
   "metadata": {}
  },
  {
   "cell_type": "code",
   "execution_count": 8,
   "metadata": {},
   "outputs": [
    {
     "output_type": "stream",
     "name": "stdout",
     "text": [
      "['brown', 'green', 'orange', 'purple', 'red', 'yellow']\n['brown', 'green', 'purple', 'red', 'black', 'white']\n"
     ]
    }
   ],
   "source": [
    "print(colors)\n",
    "\n",
    "colors.append('black')\n",
    "colors.append('white')\n",
    "\n",
    "colors.remove('yellow')\n",
    "colors.remove('orange')\n",
    "\n",
    "print(colors)"
   ]
  },
  {
   "source": [
    "## Combine a new list with an existing list"
   ],
   "cell_type": "markdown",
   "metadata": {}
  },
  {
   "cell_type": "code",
   "execution_count": 9,
   "metadata": {},
   "outputs": [
    {
     "output_type": "stream",
     "name": "stdout",
     "text": [
      "['brown', 'green', 'purple', 'red', 'black', 'white', 'lime', 'gray']\n"
     ]
    }
   ],
   "source": [
    "new_colors = ['lime', 'gray']\n",
    "colors.extend(new_colors)\n",
    "print(colors)"
   ]
  },
  {
   "source": [
    "## Clear all items from a list"
   ],
   "cell_type": "markdown",
   "metadata": {}
  },
  {
   "cell_type": "code",
   "execution_count": 10,
   "metadata": {},
   "outputs": [
    {
     "output_type": "stream",
     "name": "stdout",
     "text": [
      "['brown', 'green', 'purple', 'red', 'black', 'white', 'lime', 'gray']\n[]\n"
     ]
    }
   ],
   "source": [
    "print(colors)\n",
    "colors.clear()\n",
    "print(colors)"
   ]
  },
  {
   "source": [
    "# Exercise2 - Iterate through lists by using the for statement"
   ],
   "cell_type": "markdown",
   "metadata": {}
  },
  {
   "cell_type": "code",
   "execution_count": 11,
   "metadata": {},
   "outputs": [
    {
     "output_type": "stream",
     "name": "stdout",
     "text": [
      "True\nFalse\nFalse\nTrue\n"
     ]
    }
   ],
   "source": [
    "numbers = [1, 3, 5]\n",
    "\n",
    "print(5 in numbers)\n",
    "print(8 in numbers)\n",
    "\n",
    "print(5 not in numbers)\n",
    "print(8 not in numbers)"
   ]
  },
  {
   "cell_type": "code",
   "execution_count": 12,
   "metadata": {},
   "outputs": [
    {
     "output_type": "stream",
     "name": "stdout",
     "text": [
      "Chicago\nLondon\nTokyo\n"
     ]
    }
   ],
   "source": [
    "cities = [\"Chicago\", \"London\", \"Tokyo\"]\n",
    "\n",
    "for city in cities:\n",
    "  print(city)"
   ]
  },
  {
   "source": [
    "## Break out of a for loop"
   ],
   "cell_type": "markdown",
   "metadata": {}
  },
  {
   "cell_type": "code",
   "execution_count": 13,
   "metadata": {},
   "outputs": [
    {
     "output_type": "stream",
     "name": "stdout",
     "text": [
      "4\n8\n15\n16\n23\n42\n"
     ]
    }
   ],
   "source": [
    "numbers = [42, 77, 16, 101, 23, 8, 4, 15, 55]\n",
    "numbers.sort()\n",
    "\n",
    "for number in numbers:\n",
    "  if number > 42:\n",
    "    break\n",
    "  print(number)"
   ]
  },
  {
   "source": [
    "## Use an else statement"
   ],
   "cell_type": "markdown",
   "metadata": {}
  },
  {
   "cell_type": "code",
   "execution_count": 17,
   "metadata": {},
   "outputs": [
    {
     "output_type": "stream",
     "name": "stdout",
     "text": [
      "93\nFound at least one number greater than 90\nComplete\n"
     ]
    }
   ],
   "source": [
    "import random\n",
    "numbers = []\n",
    "\n",
    "while len(numbers) < 5:\n",
    "  numbers.append(random.randint(1, 100))\n",
    "\n",
    "for number in numbers:\n",
    "  print(number)\n",
    "  if number >= 90:\n",
    "    print('Found at least one number greater than 90')\n",
    "    break\n",
    "else:\n",
    "  print('No numbers greater than 90')\n",
    "\n",
    "print('Complete')"
   ]
  },
  {
   "source": [
    "## Use a continue statement"
   ],
   "cell_type": "markdown",
   "metadata": {}
  },
  {
   "cell_type": "code",
   "execution_count": 20,
   "metadata": {},
   "outputs": [
    {
     "output_type": "stream",
     "name": "stdout",
     "text": [
      "['laptop', 'phone', 'dslr']\n"
     ]
    }
   ],
   "source": [
    "values = [\"laptop\", 7, \"phone\", 3, \"dslr\", 5]\n",
    "equipment = []\n",
    "\n",
    "for value in values:\n",
    "  if isinstance(value, str) == False:\n",
    "    continue\n",
    "  equipment.append(value)\n",
    "#   print(value)\n",
    "\n",
    "print(equipment)"
   ]
  },
  {
   "source": [
    "## Create nested for loops"
   ],
   "cell_type": "markdown",
   "metadata": {}
  },
  {
   "cell_type": "code",
   "execution_count": 23,
   "metadata": {},
   "outputs": [],
   "source": [
    "suits = [\"Hearts\", \"Spades\", \"Clubs\", \"Diamonds\"]\n",
    "ranks = [\"2\", \"3\", \"4\", \"5\", \"6\", \"7\", \"8\", \"9\", \"10\", \"Jack\", \"Queen\", \"King\", \"Ace\"]\n",
    "\n",
    "for  suit in suits:\n",
    "  for rank in ranks:\n",
    "    print(f'{rank} of {suit}')"
   ]
  },
  {
   "source": [
    "## Choose randomly from a list"
   ],
   "cell_type": "markdown",
   "metadata": {}
  },
  {
   "cell_type": "code",
   "execution_count": 22,
   "metadata": {},
   "outputs": [
    {
     "output_type": "stream",
     "name": "stdout",
     "text": [
      "15\n[55, 77, 42]\n"
     ]
    }
   ],
   "source": [
    "import random\n",
    "\n",
    "numbers = [42, 77, 16, 101, 23, 8, 4, 15, 55]\n",
    "selected_number = random.choice(numbers)\n",
    "print(selected_number)\n",
    "\n",
    "selected_numbers = random.choices(numbers, k=3)\n",
    "print(selected_numbers)"
   ]
  },
  {
   "source": [
    "# Challenge1 - Deal a deck of cards\n",
    "\n",
    "Output:\n",
    "```\n",
    "There are 52 cards in the deck.\n",
    "Dealing ...\n",
    "There are 47 cards in the deck.\n",
    "Player has the following cards in their hand:\n",
    "['Jack of Hearts', 'Queen of Hearts', '4 of Spades', 'Ace of Hearts', '9 of Diamonds']\n",
    "```"
   ],
   "cell_type": "markdown",
   "metadata": {}
  },
  {
   "cell_type": "code",
   "execution_count": 35,
   "metadata": {},
   "outputs": [
    {
     "output_type": "stream",
     "name": "stdout",
     "text": [
      "There are 52 cards in the deck.\nDealing ...\nThere are 47 cards in the deck.\nPlayer has the following cards in their hand:\n['6 of Diamonds', '10 of Hearts', '5 of Clubs', 'King of Hearts', 'King of Spades']\n"
     ]
    }
   ],
   "source": [
    "suits = [\"Hearts\", \"Spades\", \"Clubs\", \"Diamonds\"]\n",
    "ranks = [\"2\", \"3\", \"4\", \"5\", \"6\", \"7\", \"8\", \"9\", \"10\", \"Jack\", \"Queen\", \"King\", \"Ace\"]\n",
    "cards = []\n",
    "\n",
    "for  suit in suits:\n",
    "  for rank in ranks:\n",
    "    cards.append(f'{rank} of {suit}')\n",
    "print(f'There are {len(cards)} cards in the deck.')\n",
    "\n",
    "print('Dealing ...')\n",
    "selected_cards = random.choices(cards, k=5)\n",
    "\n",
    "for selected_card in selected_cards:\n",
    "    cards.remove(selected_card)\n",
    "print(f'There are {len(cards)} cards in the deck.')\n",
    "print(f'Player has the following cards in their hand:')\n",
    "print(selected_cards)"
   ]
  },
  {
   "source": [
    "## Solution1 - Deal a deck of cards"
   ],
   "cell_type": "markdown",
   "metadata": {}
  },
  {
   "cell_type": "code",
   "execution_count": 36,
   "metadata": {},
   "outputs": [
    {
     "output_type": "stream",
     "name": "stdout",
     "text": [
      "There are 52 cards in the deck.\nDealing ...\nThere are 47 cards in the deck.\nPlayer has the following cards in their hand:\n['8 of Spades', '3 of Diamonds', '3 of Hearts', '8 of Hearts', '3 of Spades']\n"
     ]
    }
   ],
   "source": [
    "import random\n",
    "\n",
    "suits = [\"Hearts\", \"Spades\", \"Clubs\", \"Diamonds\"]\n",
    "ranks = [\"2\", \"3\", \"4\", \"5\", \"6\", \"7\", \"8\", \"9\", \"10\", \"Jack\", \"Queen\", \"King\", \"Ace\"]\n",
    "deck = []\n",
    "\n",
    "for  suit in suits:\n",
    "  for rank in ranks:\n",
    "    deck.append(f'{rank} of {suit}')\n",
    "\n",
    "print(f'There are {len(deck)} cards in the deck.')\n",
    "\n",
    "print('Dealing ...')\n",
    "\n",
    "hand = []\n",
    "\n",
    "while len(hand) < 5:\n",
    "    card = random.choice(deck)\n",
    "    deck.remove(card)\n",
    "    hand.append(card)\n",
    "\n",
    "print(f'There are {len(deck)} cards in the deck.')\n",
    "print('Player has the following cards in their hand:')\n",
    "print(hand)"
   ]
  },
  {
   "cell_type": "code",
   "execution_count": null,
   "metadata": {},
   "outputs": [],
   "source": []
  }
 ]
}