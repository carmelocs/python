{
 "metadata": {
  "language_info": {
   "codemirror_mode": {
    "name": "ipython",
    "version": 3
   },
   "file_extension": ".py",
   "mimetype": "text/x-python",
   "name": "python",
   "nbconvert_exporter": "python",
   "pygments_lexer": "ipython3",
   "version": "3.7.6"
  },
  "orig_nbformat": 4,
  "kernelspec": {
   "name": "python3",
   "display_name": "Python 3.7.6 64-bit ('base': conda)"
  },
  "interpreter": {
   "hash": "f7c338d389f4732a25d0e25fa9b9cc5d70bf419da0d097d09d423e0fa7895907"
  }
 },
 "nbformat": 4,
 "nbformat_minor": 2,
 "cells": [
  {
   "source": [
    "# Exercise1 - Define a function"
   ],
   "cell_type": "markdown",
   "metadata": {}
  },
  {
   "cell_type": "code",
   "execution_count": 1,
   "metadata": {},
   "outputs": [
    {
     "output_type": "stream",
     "name": "stdout",
     "text": [
      "Hello World!\n"
     ]
    }
   ],
   "source": [
    "def say_hello():\n",
    "  print('Hello World!')\n",
    "\n",
    "say_hello()"
   ]
  },
  {
   "cell_type": "code",
   "execution_count": 2,
   "metadata": {},
   "outputs": [
    {
     "output_type": "stream",
     "name": "stdout",
     "text": [
      "Hello Bob!\n"
     ]
    }
   ],
   "source": [
    "def say_hello(name):\n",
    "  print(f'Hello {name}!')\n",
    "\n",
    "say_hello('Bob')"
   ]
  },
  {
   "cell_type": "code",
   "execution_count": 3,
   "metadata": {},
   "outputs": [
    {
     "output_type": "stream",
     "name": "stdout",
     "text": [
      "Hello World!\nHello Bob!\n"
     ]
    }
   ],
   "source": [
    "def say_hello(name='World'):\n",
    "  print(f'Hello {name}!')\n",
    "\n",
    "say_hello()\n",
    "say_hello('Bob')"
   ]
  },
  {
   "cell_type": "code",
   "execution_count": 4,
   "metadata": {},
   "outputs": [
    {
     "output_type": "stream",
     "name": "stdout",
     "text": [
      "Hello World!\nHello Bob!\nHowdy World!\nHowdy Bob!\n"
     ]
    }
   ],
   "source": [
    "def say_hello(name='World', greeting=None):\n",
    "  if greeting == None:\n",
    "    print(f'Hello {name}!')\n",
    "  else:\n",
    "    print(f'{greeting} {name}!')\n",
    "\n",
    "say_hello()\n",
    "say_hello('Bob')\n",
    "say_hello(greeting='Howdy')\n",
    "say_hello('Bob', 'Howdy')"
   ]
  },
  {
   "source": [
    "Here you added the greeting input parameter and set its default value to None. This value is a special keyword that represents the **NoneType** object."
   ],
   "cell_type": "markdown",
   "metadata": {}
  },
  {
   "cell_type": "code",
   "execution_count": 5,
   "metadata": {},
   "outputs": [
    {
     "output_type": "stream",
     "name": "stdout",
     "text": [
      "<class 'NoneType'>\n"
     ]
    }
   ],
   "source": [
    "print(type(None))"
   ]
  },
  {
   "cell_type": "code",
   "execution_count": 6,
   "metadata": {},
   "outputs": [
    {
     "output_type": "stream",
     "name": "stdout",
     "text": [
      "12\n"
     ]
    }
   ],
   "source": [
    "def add_two_numbers(x, y):\n",
    "    return x + y\n",
    "\n",
    "add_two_numbers(4, 6)\n",
    "result = add_two_numbers(5, 7)\n",
    "print(result)"
   ]
  },
  {
   "cell_type": "code",
   "execution_count": 7,
   "metadata": {},
   "outputs": [
    {
     "output_type": "stream",
     "name": "stdout",
     "text": [
      "52\n"
     ]
    }
   ],
   "source": [
    "def create_deck():\n",
    "  suits = [\"Hearts\", \"Spades\", \"Clubs\", \"Diamonds\"]\n",
    "  ranks = [\"2\", \"3\", \"4\", \"5\", \"6\", \"7\", \"8\", \"9\", \"10\", \"Jack\", \"Queen\", \"King\", \"Ace\"]\n",
    "  deck = []\n",
    "\n",
    "  for  suit in suits:\n",
    "    for rank in ranks:\n",
    "      deck.append(f'{rank} of {suit}')\n",
    "\n",
    "  return deck\n",
    "\n",
    "my_deck = create_deck()\n",
    "print(len(my_deck))"
   ]
  },
  {
   "cell_type": "code",
   "execution_count": 8,
   "metadata": {},
   "outputs": [
    {
     "output_type": "error",
     "ename": "NameError",
     "evalue": "name 'value' is not defined",
     "traceback": [
      "\u001b[0;31m---------------------------------------------------------------------------\u001b[0m",
      "\u001b[0;31mNameError\u001b[0m                                 Traceback (most recent call last)",
      "\u001b[0;32m/var/folders/n0/2wqd4v_j3ql6b51g6r5zgjpc0000gn/T/ipykernel_6191/3728828593.py\u001b[0m in \u001b[0;36m<module>\u001b[0;34m\u001b[0m\n\u001b[1;32m      2\u001b[0m     \u001b[0mvalue\u001b[0m \u001b[0;34m=\u001b[0m \u001b[0;36m10\u001b[0m\u001b[0;34m\u001b[0m\u001b[0;34m\u001b[0m\u001b[0m\n\u001b[1;32m      3\u001b[0m \u001b[0;34m\u001b[0m\u001b[0m\n\u001b[0;32m----> 4\u001b[0;31m \u001b[0mprint\u001b[0m\u001b[0;34m(\u001b[0m\u001b[0mvalue\u001b[0m\u001b[0;34m)\u001b[0m\u001b[0;34m\u001b[0m\u001b[0;34m\u001b[0m\u001b[0m\n\u001b[0m",
      "\u001b[0;31mNameError\u001b[0m: name 'value' is not defined"
     ]
    }
   ],
   "source": [
    "def some_function():\n",
    "    value = 10\n",
    "\n",
    "print(value)"
   ]
  },
  {
   "cell_type": "code",
   "execution_count": 9,
   "metadata": {},
   "outputs": [
    {
     "output_type": "stream",
     "name": "stdout",
     "text": [
      "1\n"
     ]
    }
   ],
   "source": [
    "value = 1\n",
    "\n",
    "def some_function():\n",
    "    value = 10\n",
    "    return value\n",
    "\n",
    "print(value)"
   ]
  },
  {
   "cell_type": "code",
   "execution_count": 10,
   "metadata": {},
   "outputs": [
    {
     "output_type": "stream",
     "name": "stdout",
     "text": [
      "1\n1\n"
     ]
    }
   ],
   "source": [
    "value = 1\n",
    "\n",
    "def some_function():\n",
    "    value = 10\n",
    "    return value\n",
    "\n",
    "print(value)\n",
    "some_function()\n",
    "print(value)"
   ]
  },
  {
   "source": [
    "# Exercise2 - Add arbitrary argument lists and keyword arguments to functions"
   ],
   "cell_type": "markdown",
   "metadata": {}
  },
  {
   "source": [
    "## Add code that creates a function accepting an arbitrary arguments list"
   ],
   "cell_type": "markdown",
   "metadata": {}
  },
  {
   "cell_type": "code",
   "execution_count": 11,
   "metadata": {},
   "outputs": [
    {
     "output_type": "stream",
     "name": "stdout",
     "text": [
      "arg = a\narg = a\narg = b\narg = a\narg = b\narg = c\n"
     ]
    }
   ],
   "source": [
    "def print_args(*args):\n",
    "  for arg in args:\n",
    "    print(f'arg = {arg}')\n",
    "\n",
    "print_args('a')\n",
    "print_args('a', 'b')\n",
    "print_args('a', 'b', 'c')"
   ]
  },
  {
   "cell_type": "code",
   "execution_count": 12,
   "metadata": {},
   "outputs": [
    {
     "output_type": "stream",
     "name": "stdout",
     "text": [
      "('a',)\n<class 'tuple'>\n('a', 'b')\n<class 'tuple'>\n('a', 'b', 'c')\n<class 'tuple'>\n"
     ]
    }
   ],
   "source": [
    "def print_args(*args):\n",
    "  #for arg in args:\n",
    "  #  print(f'arg = {arg}')\n",
    "  print(args)\n",
    "  print(type(args))\n",
    "\n",
    "print_args('a')\n",
    "print_args('a', 'b')\n",
    "print_args('a', 'b', 'c')"
   ]
  },
  {
   "source": [
    "## Add code that accepts keyword arguments"
   ],
   "cell_type": "markdown",
   "metadata": {}
  },
  {
   "cell_type": "code",
   "execution_count": 13,
   "metadata": {},
   "outputs": [
    {
     "output_type": "stream",
     "name": "stdout",
     "text": [
      "third arg = f\n"
     ]
    }
   ],
   "source": [
    "def print_keyword_args(**kwargs):\n",
    "\n",
    "  third = kwargs.get('third', None)\n",
    "  if third != None:\n",
    "    print('third arg =', third)\n",
    "\n",
    "\n",
    "print_keyword_args(first='a')\n",
    "print_keyword_args(first='b', second='c')\n",
    "print_keyword_args(first='d', second='e', third='f')"
   ]
  },
  {
   "source": [
    "## example to iterate through each keyword and value"
   ],
   "cell_type": "markdown",
   "metadata": {}
  },
  {
   "cell_type": "code",
   "execution_count": 14,
   "metadata": {},
   "outputs": [
    {
     "output_type": "stream",
     "name": "stdout",
     "text": [
      "\n\nfirst = a\n\n\nfirst = b\nsecond = c\n\n\nfirst = d\nsecond = e\nthird = f\nthird arg = f\n"
     ]
    }
   ],
   "source": [
    "def print_keyword_args(**kwargs):\n",
    "\n",
    "  print('\\n')\n",
    "\n",
    "  for key, value in kwargs.items():\n",
    "    print(f'{key} = {value}')\n",
    "\n",
    "  third = kwargs.get('third', None)\n",
    "  if third != None:\n",
    "    print('third arg =', third)\n",
    "\n",
    "\n",
    "print_keyword_args(first='a')\n",
    "print_keyword_args(first='b', second='c')\n",
    "print_keyword_args(first='d', second='e', third='f')"
   ]
  },
  {
   "source": [
    "## Update the code example to print the value of kwargs and its data type"
   ],
   "cell_type": "markdown",
   "metadata": {}
  },
  {
   "cell_type": "code",
   "execution_count": 15,
   "metadata": {},
   "outputs": [
    {
     "output_type": "stream",
     "name": "stdout",
     "text": [
      "\n\n{'first': 'a'}\n<class 'dict'>\nfirst = a\n\n\n{'first': 'b', 'second': 'c'}\n<class 'dict'>\nfirst = b\nsecond = c\n\n\n{'first': 'd', 'second': 'e', 'third': 'f'}\n<class 'dict'>\nfirst = d\nsecond = e\nthird = f\nthird arg = f\n"
     ]
    }
   ],
   "source": [
    "def print_keyword_args(**kwargs):\n",
    "\n",
    "  print('\\n')\n",
    "  print(kwargs)\n",
    "  print(type(kwargs))\n",
    "\n",
    "  for key, value in kwargs.items():\n",
    "    print(f'{key} = {value}')\n",
    "\n",
    "  third = kwargs.get('third', None)\n",
    "  if third != None:\n",
    "    print('third arg =', third)\n",
    "\n",
    "\n",
    "print_keyword_args(first='a')\n",
    "print_keyword_args(first='b', second='c')\n",
    "print_keyword_args(first='d', second='e', third='f')"
   ]
  },
  {
   "source": [
    "## Recap\n",
    "\n",
    "In this exercise, you learned a few ways to make your functions more flexible.\n",
    "\n",
    "You can define functions that use arbitrary arguments lists. A list lets a caller pass in any number of arguments. In the previous examples, the args input parameter manages the entries as **tuple** values.\n",
    "\n",
    "You can define functions that use keyword or named arguments. A caller can pass in any number of named arguments. In the previous examples, the kwargs input parameter manages the entries as **dict** values.\n"
   ],
   "cell_type": "markdown",
   "metadata": {}
  },
  {
   "source": [
    "# Exercise3 - Define a module\n",
    "\n",
    "Create another new file in the working folder for a new module named deck.py\n"
   ],
   "cell_type": "markdown",
   "metadata": {}
  },
  {
   "cell_type": "code",
   "execution_count": 4,
   "metadata": {},
   "outputs": [
    {
     "output_type": "stream",
     "name": "stdout",
     "text": [
      "2 of Hearts\n3 of Hearts\n4 of Hearts\n5 of Hearts\n6 of Hearts\n7 of Hearts\n8 of Hearts\n9 of Hearts\n10 of Hearts\nJack of Hearts\nQueen of Hearts\nKing of Hearts\nAce of Hearts\n2 of Spades\n3 of Spades\n4 of Spades\n5 of Spades\n6 of Spades\n7 of Spades\n8 of Spades\n9 of Spades\n10 of Spades\nJack of Spades\nQueen of Spades\nKing of Spades\nAce of Spades\n2 of Clubs\n3 of Clubs\n4 of Clubs\n5 of Clubs\n6 of Clubs\n7 of Clubs\n8 of Clubs\n9 of Clubs\n10 of Clubs\nJack of Clubs\nQueen of Clubs\nKing of Clubs\nAce of Clubs\n2 of Diamonds\n3 of Diamonds\n4 of Diamonds\n5 of Diamonds\n6 of Diamonds\n7 of Diamonds\n8 of Diamonds\n9 of Diamonds\n10 of Diamonds\nJack of Diamonds\nQueen of Diamonds\nKing of Diamonds\nAce of Diamonds\n"
     ]
    }
   ],
   "source": [
    "import deck\n",
    "\n",
    "cards = deck.create_deck()\n",
    "\n",
    "for card in cards:\n",
    "  print(card)"
   ]
  },
  {
   "source": [
    "# Challenge - Fill in the missing functions\n",
    "\n",
    "create a new module named processor.py in the same working folder."
   ],
   "cell_type": "markdown",
   "metadata": {}
  },
  {
   "source": [
    "## Make sure you follow the rules of the challenge\n",
    "\n",
    "- Rule 1: You can't modify the code in the challenge.py file at all. Instead, create a new module named processor.py in the same working folder.\n",
    "\n",
    "- Rule 2: After you finish, running the challenge.py file must produce the following output:\n",
    "\n",
    "```\n",
    "[4, 4, 5, 7, 7, 9]\n",
    "['Amy', 'Dan', 'Jill', 'Kim', 'Rhonda', 'Steve']\n",
    "[]\n",
    "[]\n",
    "```\n",
    "\n",
    "- Rule 3: The process_numbers() function must select all numeric values, even those values that are strings, and return them as a list. The values must be converted to numbers and included in the returned list. The list must be sorted. The function must handle the possibility that the input parameter isn't formatted as a list. In that case, it must return an empty list.\n",
    "\n",
    "- Rule 4: The process_names() function must select all string values that aren't numeric and return them as a list. The list must be sorted. The function must handle the possibility that the input parameter isn't formatted as a list. In that case, it must return an empty list."
   ],
   "cell_type": "markdown",
   "metadata": {}
  },
  {
   "cell_type": "code",
   "execution_count": 2,
   "metadata": {},
   "outputs": [
    {
     "output_type": "stream",
     "name": "stdout",
     "text": [
      "[4, 4, 5, 7, 7, 9]\n['Amy', 'Dan', 'Jill', 'Kim', 'Rhonda', 'Steve']\n[]\n[]\n"
     ]
    }
   ],
   "source": [
    "import processor\n",
    "\n",
    "my_list = [5, 'Dan', '4', 7, 'Steve', 'Amy', 'Rhonda', 4, '9', 'Jill', 7, 'Kim']\n",
    "my_bad_list = 5\n",
    "\n",
    "numbers = processor.process_numbers(my_list)\n",
    "print(numbers)\n",
    "\n",
    "names = processor.process_names(my_list)\n",
    "print(names)\n",
    "\n",
    "numbers = processor.process_numbers(my_bad_list)\n",
    "print(numbers)\n",
    "\n",
    "names = processor.process_names(my_bad_list)\n",
    "print(names)"
   ]
  },
  {
   "source": [
    "# Summary\n",
    "\n",
    "In this module, you:\n",
    "\n",
    "- Defined Python functions to encapsulate functionality into named code blocks.\n",
    "- Added input parameters to your functions for increased flexibility.\n",
    "- Assigned default values to input parameters and learned how to tell whether the input parameters have a value by comparing them to **None**.\n",
    "- Defined functions that accept a variable number of input parameters, both unnamed and named.\n",
    "- Defined functions that return a result after the code logic processes the input.\n",
    "- Added functions to modules and imported modules into your code.\n",
    "\n",
    "Without functions and modules, it would be impossible to build larger, more interesting programs"
   ],
   "cell_type": "markdown",
   "metadata": {}
  },
  {
   "cell_type": "code",
   "execution_count": null,
   "metadata": {},
   "outputs": [],
   "source": []
  }
 ]
}