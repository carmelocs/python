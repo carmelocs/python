{
 "metadata": {
  "language_info": {
   "codemirror_mode": {
    "name": "ipython",
    "version": 3
   },
   "file_extension": ".py",
   "mimetype": "text/x-python",
   "name": "python",
   "nbconvert_exporter": "python",
   "pygments_lexer": "ipython3",
   "version": "3.7.6"
  },
  "orig_nbformat": 4,
  "kernelspec": {
   "name": "python3",
   "display_name": "Python 3.7.6 64-bit ('base': conda)"
  },
  "interpreter": {
   "hash": "f7c338d389f4732a25d0e25fa9b9cc5d70bf419da0d097d09d423e0fa7895907"
  }
 },
 "nbformat": 4,
 "nbformat_minor": 2,
 "cells": [
  {
   "source": [
    "# Exercise1 - The while statemen"
   ],
   "cell_type": "markdown",
   "metadata": {}
  },
  {
   "cell_type": "code",
   "execution_count": 5,
   "metadata": {},
   "outputs": [
    {
     "output_type": "stream",
     "name": "stdout",
     "text": [
      "2\n1\n4\n6\n5\nIt took 5 rolls to roll a 5!\n"
     ]
    }
   ],
   "source": [
    "import random \n",
    "\n",
    "roll = 0\n",
    "count = 0\n",
    "\n",
    "while roll != 5:\n",
    "  count = count + 1\n",
    "  roll = random.randint(1, 6)\n",
    "  print(roll)\n",
    "\n",
    "print(f'It took {count} rolls to roll a 5!')"
   ]
  },
  {
   "source": [
    "## Use the optional statements break and else"
   ],
   "cell_type": "markdown",
   "metadata": {}
  },
  {
   "cell_type": "code",
   "execution_count": 6,
   "metadata": {},
   "outputs": [
    {
     "output_type": "stream",
     "name": "stdout",
     "text": [
      "First person to roll a 5 wins!\n",
      "a rolled 2\n",
      "s rolled 2\n",
      "a rolled 3\n",
      "d rolled 3\n",
      "f rolled 3\n",
      "g rolled 2\n",
      "h rolled 1\n",
      "j rolled 5\n",
      "j Wins!!!\n",
      "You rolled the dice 8 times.\n"
     ]
    }
   ],
   "source": [
    "import random \n",
    "\n",
    "roll = 0\n",
    "count = 0\n",
    "\n",
    "print('First person to roll a 5 wins!')\n",
    "while roll != 5:\n",
    "  \n",
    "  name = input('Enter a name, or \\'q\\' to quit:  ' )\n",
    "  if name == 'q':\n",
    "    break\n",
    "  \n",
    "  count = count + 1\n",
    "  roll = random.randint(1, 5)\n",
    "  print(f'{name} rolled {roll}')\n",
    "else:\n",
    "    print(f'{name} Wins!!!')\n",
    "\n",
    "print(f'You rolled the dice {count} times.')"
   ]
  },
  {
   "cell_type": "code",
   "execution_count": 7,
   "metadata": {},
   "outputs": [
    {
     "output_type": "stream",
     "name": "stdout",
     "text": [
      "First person to roll a 5 wins!\n",
      "d rolled 4\n",
      "g rolled 2\n",
      "h rolled 1\n",
      "j rolled 5\n",
      "j Wins!!!\n",
      "You rolled the dice 4 times.\n"
     ]
    }
   ],
   "source": [
    "import random \n",
    "\n",
    "roll = 0\n",
    "count = 0\n",
    "\n",
    "print('First person to roll a 5 wins!')\n",
    "while roll != 5:\n",
    "  name = input('Enter a name, or \\'q\\' to quit:  ' )\n",
    "\n",
    "  if name.strip() == '':\n",
    "      continue\n",
    "\n",
    "  if name.strip() == 'q':\n",
    "      break\n",
    "  \n",
    "  count = count + 1\n",
    "  roll = random.randint(1, 5)\n",
    "  print(f'{name} rolled {roll}')\n",
    "else:\n",
    "    print(f'{name} Wins!!!')\n",
    "\n",
    "print(f'You rolled the dice {count} times.')"
   ]
  },
  {
   "source": [
    "# Exercise2 - Assignment operators"
   ],
   "cell_type": "markdown",
   "metadata": {}
  },
  {
   "cell_type": "code",
   "execution_count": 8,
   "metadata": {},
   "outputs": [
    {
     "output_type": "stream",
     "name": "stdout",
     "text": [
      "1\n2\n3\n4\n5\n"
     ]
    }
   ],
   "source": [
    "count = 0\n",
    "while count != 5:\n",
    "    count += 1\n",
    "    print(count)"
   ]
  },
  {
   "cell_type": "code",
   "execution_count": 9,
   "metadata": {},
   "outputs": [
    {
     "output_type": "stream",
     "name": "stdout",
     "text": [
      "3\n6\n9\n12\n15\n18\n21\n"
     ]
    }
   ],
   "source": [
    "count = 0\n",
    "while count <= 20:\n",
    "    count += 3\n",
    "    print(count)"
   ]
  },
  {
   "cell_type": "code",
   "execution_count": 10,
   "metadata": {},
   "outputs": [
    {
     "output_type": "stream",
     "name": "stdout",
     "text": [
      "17\n14\n11\n8\n5\n2\n-1\n"
     ]
    }
   ],
   "source": [
    "count = 20\n",
    "while count >= 0:\n",
    "    count -= 3\n",
    "    print(count)"
   ]
  },
  {
   "source": [
    "# Challenge1 - Guess a number"
   ],
   "cell_type": "markdown",
   "metadata": {}
  },
  {
   "source": [
    "## Write the code to implement a number guessing game\n",
    "\n",
    "Using the techniques we learned in this module, generate a random number between 1 and 5 and allow the user to guess. Keep prompting the user for their guess until they guess correctly. Then, display the number of guesses.\n",
    "\n",
    "No matter how you do it, your code should produce similar results to the following output (given the randomly generated answer and guesses):\n",
    "\n",
    "Output:\n",
    "```\n",
    "Guess a number between 1 and 5: 3\n",
    "Guess a number between 1 and 5: 4\n",
    "You guessed it in 2 tries!\n",
    "```\n",
    "\n",
    "If the user doesn't enter a numeric value, there's no need to notify the user of their error. Just keep counting each entry as a guess. In the following example output, the user enters strings that can't be converted to numbers, but the program keeps running and keeps tallying the number of guesses.\n",
    "```\n",
    "Guess a number between 1 and 5: Beth\n",
    "Guess a number between 1 and 5: Charlee\n",
    "Guess a number between 1 and 5: 3\n",
    "Guess a number between 1 and 5: 4\n",
    "Guess a number between 1 and 5: 2\n",
    "You guessed it in 5 tries!\n",
    "```"
   ],
   "cell_type": "markdown",
   "metadata": {}
  },
  {
   "cell_type": "code",
   "execution_count": 16,
   "metadata": {},
   "outputs": [
    {
     "output_type": "stream",
     "name": "stdout",
     "text": [
      "You guessed it in 7 tries!\n"
     ]
    }
   ],
   "source": [
    "import random \n",
    "\n",
    "roll = random.randint(1, 5)\n",
    "count = 0\n",
    "\n",
    "while True:\n",
    "  \n",
    "  guess = input('Guess a number between 1 and 5: ' )\n",
    "  count = count + 1\n",
    "  if guess == str(roll):\n",
    "      break\n",
    "\n",
    "print(f'You guessed it in {count} tries!')"
   ]
  },
  {
   "source": [
    "## Solution1 - Guess a number"
   ],
   "cell_type": "markdown",
   "metadata": {}
  },
  {
   "cell_type": "code",
   "execution_count": 17,
   "metadata": {},
   "outputs": [
    {
     "output_type": "stream",
     "name": "stdout",
     "text": [
      "You guessed it in 7 tries!\n"
     ]
    }
   ],
   "source": [
    "import random\n",
    "\n",
    "value = random.randint(1, 5)\n",
    "count = 0\n",
    "guess = 0\n",
    "while guess != value:\n",
    "    count += 1\n",
    "    guess = input('Guess a number between 1 and 5: ')\n",
    "    if guess.isnumeric():\n",
    "        guess = int(guess)\n",
    "else:\n",
    "    print(f'You guessed it in {count} tries!')"
   ]
  },
  {
   "source": [
    "# Challenge2 - Improved number guessin\n",
    "\n",
    "Rebuild the number guessing game, but this time:\n",
    "- Display the current guess number.\n",
    "- If the guess is too low, tell the user \"Your guess is too low, try again!\"\n",
    "- If the guess is too high, tell the user \"Your guess is too high, try again!\"\n",
    "- If the user enters a nonnumeric value, tell the user \"Numbers only, please!\"\n",
    "\n",
    "Also, take note of the output. The prompts and messages have changed when compared to the original challenge.\n",
    "\n",
    "No matter how you do it, your code should produce the following output (given the randomly generated answer and the guesses).\n",
    "```\n",
    "Guess a number between 1 and 10\n",
    "Enter guess #1: 5\n",
    "Your guess is too low, try again!\n",
    "Enter guess #2: 8\n",
    "Your guess is too high, try again!\n",
    "Enter guess #3: 7\n",
    "Your guess is too high, try again!\n",
    "Enter guess #4: 6\n",
    "You guessed it in 4 tries!\n",
    "```\n",
    "\n",
    "If the user types in a value that isn't numeric, display an error message. In the following example output, the user enters a few strings and is reminded to only enter numbers.\n",
    "```\n",
    "Guess a number between 1 and 10\n",
    "Enter guess #1: Bob\n",
    "Numbers only, please!\n",
    "Enter guess #2: Beth\n",
    "Numbers only, please!\n",
    "Enter guess #3: 5\n",
    "You guessed it in 3 tries!\n",
    "```"
   ],
   "cell_type": "markdown",
   "metadata": {}
  },
  {
   "cell_type": "code",
   "execution_count": 5,
   "metadata": {},
   "outputs": [
    {
     "output_type": "stream",
     "name": "stdout",
     "text": [
      "Guess a number between 1 and 10\n",
      "Enter guess #1: 5\n",
      "Your guess is too low, try again!\n",
      "Enter guess #2: 7\n",
      "Your guess is too low, try again!\n",
      "Enter guess #3: 9\n",
      "Your guess is too low, try again!\n",
      "Enter guess #4: 10\n",
      "You guessed it in 4 tries!\n"
     ]
    }
   ],
   "source": [
    "import random \n",
    "\n",
    "print('Guess a number between 1 and 10')\n",
    "roll = random.randint(1, 10)\n",
    "count = 0\n",
    "\n",
    "while True:\n",
    "  \n",
    "  guess = input('Guess a number between 1 and 10: ' )\n",
    "  count = count + 1\n",
    "  if not guess.isnumeric():\n",
    "      print(f'Enter guess #{count}: {guess}\\nNumbers only, please!')\n",
    "  elif guess == str(roll):\n",
    "      print(f'Enter guess #{count}: {guess}')\n",
    "      break\n",
    "  elif int(guess) < roll:\n",
    "      print(f'Enter guess #{count}: {guess}\\nYour guess is too low, try again!')\n",
    "  else:\n",
    "      print(f'Enter guess #{count}: {guess}\\nYour guess is too high, try again!')      \n",
    "\n",
    "print(f'You guessed it in {count} tries!')"
   ]
  },
  {
   "source": [
    "## Solution2 - Improved number guessing"
   ],
   "cell_type": "markdown",
   "metadata": {}
  },
  {
   "cell_type": "code",
   "execution_count": 6,
   "metadata": {},
   "outputs": [
    {
     "output_type": "stream",
     "name": "stdout",
     "text": [
      "Guess a number between 1 and 10\n",
      "Your guess is too low, try again!\n",
      "Your guess is too low, try again!\n",
      "You guessed it in 3 tries!\n"
     ]
    }
   ],
   "source": [
    "import random\n",
    "\n",
    "value = random.randint(1, 10)\n",
    "count = 0\n",
    "guess = 0\n",
    "print('Guess a number between 1 and 10')\n",
    "\n",
    "while guess != value:\n",
    "    count += 1\n",
    "    guess = input(f'Enter guess #{count}: ')\n",
    "\n",
    "    if guess.isnumeric():\n",
    "        guess = int(guess)\n",
    "    else:\n",
    "        print('Numbers only, please!')\n",
    "        continue\n",
    "\n",
    "    if guess > value:\n",
    "        print('Your guess is too high, try again!')\n",
    "    elif guess < value:\n",
    "        print('Your guess is too low, try again!')\n",
    "\n",
    "else:\n",
    "    print(f'You guessed it in {count} tries!')"
   ]
  },
  {
   "cell_type": "code",
   "execution_count": null,
   "metadata": {},
   "outputs": [],
   "source": []
  }
 ]
}