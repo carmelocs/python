{
 "metadata": {
  "language_info": {
   "codemirror_mode": {
    "name": "ipython",
    "version": 3
   },
   "file_extension": ".py",
   "mimetype": "text/x-python",
   "name": "python",
   "nbconvert_exporter": "python",
   "pygments_lexer": "ipython3",
   "version": "3.7.6"
  },
  "orig_nbformat": 4,
  "kernelspec": {
   "name": "python3",
   "display_name": "Python 3.7.6 64-bit ('base': conda)"
  },
  "interpreter": {
   "hash": "f7c338d389f4732a25d0e25fa9b9cc5d70bf419da0d097d09d423e0fa7895907"
  }
 },
 "nbformat": 4,
 "nbformat_minor": 2,
 "cells": [
  {
   "source": [
    "# Exercise1 - Use an import statement to utilize a standard library module"
   ],
   "cell_type": "markdown",
   "metadata": {}
  },
  {
   "cell_type": "code",
   "execution_count": 4,
   "metadata": {},
   "outputs": [
    {
     "output_type": "stream",
     "name": "stdout",
     "text": [
      "You rolled 7.\n"
     ]
    }
   ],
   "source": [
    "import random\n",
    "\n",
    "roll = random.randint(1, 10)\n",
    "print(f'You rolled {roll}.')"
   ]
  },
  {
   "cell_type": "code",
   "execution_count": 7,
   "metadata": {},
   "outputs": [
    {
     "output_type": "stream",
     "name": "stdout",
     "text": [
      "You rolled 2\n"
     ]
    }
   ],
   "source": [
    "import random as dice\n",
    "roll = dice.randint(1, 6)\n",
    "print(f'You rolled {roll}')"
   ]
  },
  {
   "source": [
    "# Exercise2 - Install a third-party package using pip"
   ],
   "cell_type": "markdown",
   "metadata": {}
  },
  {
   "cell_type": "code",
   "execution_count": 8,
   "metadata": {},
   "outputs": [
    {
     "output_type": "stream",
     "name": "stdout",
     "text": [
      "Howdy 🌞\n"
     ]
    }
   ],
   "source": [
    "import emoji\n",
    "message = emoji.emojize('Howdy :sun_with_face:')\n",
    "print(message)"
   ]
  },
  {
   "cell_type": "code",
   "execution_count": null,
   "metadata": {},
   "outputs": [],
   "source": []
  }
 ]
}